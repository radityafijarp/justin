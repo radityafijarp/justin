{
 "cells": [
  {
   "cell_type": "code",
   "execution_count": 13,
   "metadata": {},
   "outputs": [
    {
     "name": "stdout",
     "output_type": "stream",
     "text": [
      "5\n",
      "8\n",
      "8\n"
     ]
    }
   ],
   "source": [
    "for i in range(5,10,3):\n",
    "    print(i)\n",
    "print(i)"
   ]
  },
  {
   "cell_type": "code",
   "execution_count": 11,
   "metadata": {},
   "outputs": [],
   "source": [
    "nama=\"Andi\""
   ]
  },
  {
   "cell_type": "code",
   "execution_count": 2,
   "metadata": {},
   "outputs": [
    {
     "name": "stdout",
     "output_type": "stream",
     "text": [
      "apel\n",
      "mangga\n",
      "nangka\n"
     ]
    }
   ],
   "source": [
    "contohList=[\"apel\",\"mangga\",\"nangka\"]\n",
    "for i in contohList:\n",
    "    print(i)"
   ]
  },
  {
   "cell_type": "code",
   "execution_count": 6,
   "metadata": {},
   "outputs": [
    {
     "name": "stdout",
     "output_type": "stream",
     "text": [
      "range(2, 5, 2)\n"
     ]
    }
   ],
   "source": [
    "print(range(2,5,2))"
   ]
  },
  {
   "cell_type": "code",
   "execution_count": 15,
   "metadata": {},
   "outputs": [
    {
     "name": "stdout",
     "output_type": "stream",
     "text": [
      "5\n",
      "8\n",
      "11\n"
     ]
    }
   ],
   "source": [
    "i = 5\n",
    "\n",
    "while i < 10:\n",
    "    print(i)\n",
    "    i=i+3\n",
    "\n",
    "print(i)"
   ]
  },
  {
   "cell_type": "code",
   "execution_count": 24,
   "metadata": {},
   "outputs": [
    {
     "name": "stdout",
     "output_type": "stream",
     "text": [
      "-78\n"
     ]
    }
   ],
   "source": [
    "listNumber=[1,2,3,4,5,63,4,3,23,43,34,0,-78]\n",
    "\n",
    "minNumber=listNumber[0]\n",
    "\n",
    "for i in listNumber:\n",
    "    \n",
    "    if minNumber>i:\n",
    "        minNumber=i\n",
    "\n",
    "print(minNumber)\n"
   ]
  },
  {
   "cell_type": "code",
   "execution_count": 30,
   "metadata": {},
   "outputs": [
    {
     "name": "stdout",
     "output_type": "stream",
     "text": [
      "-78\n",
      "63\n"
     ]
    }
   ],
   "source": [
    "listNumber=[89,-100,3,4,5,63,4,3,23,43,34,0,-78]\n",
    "\n",
    "initialIndex=5\n",
    "minNumber=listNumber[initialIndex]\n",
    "maxNumber=listNumber[initialIndex]\n",
    "\n",
    "for i in range(initialIndex,len(listNumber)):\n",
    "    if minNumber > listNumber[i]:\n",
    "        minNumber=listNumber[i]\n",
    "    if maxNumber < listNumber[i]:\n",
    "        maxNumber=maxNumber[i]\n",
    "\n",
    "print(minNumber)\n",
    "print(maxNumber)"
   ]
  },
  {
   "cell_type": "code",
   "execution_count": 36,
   "metadata": {},
   "outputs": [
    {
     "name": "stdout",
     "output_type": "stream",
     "text": [
      "0 x 0 x 0 = 0\n",
      "0 x 0 x 1 = 0\n",
      "0 x 0 x 2 = 0\n",
      "0 x 0 x 3 = 0\n",
      "0 x 1 x 0 = 0\n",
      "0 x 1 x 1 = 0\n",
      "0 x 1 x 2 = 0\n",
      "0 x 1 x 3 = 0\n",
      "0 x 2 x 0 = 0\n",
      "0 x 2 x 1 = 0\n",
      "0 x 2 x 2 = 0\n",
      "0 x 2 x 3 = 0\n",
      "0 x 3 x 0 = 0\n",
      "0 x 3 x 1 = 0\n",
      "0 x 3 x 2 = 0\n",
      "0 x 3 x 3 = 0\n",
      "0 x 4 x 0 = 0\n",
      "0 x 4 x 1 = 0\n",
      "0 x 4 x 2 = 0\n",
      "0 x 4 x 3 = 0\n",
      "1 x 0 x 0 = 0\n",
      "1 x 0 x 1 = 0\n",
      "1 x 0 x 2 = 0\n",
      "1 x 0 x 3 = 0\n",
      "1 x 1 x 0 = 0\n",
      "1 x 1 x 1 = 1\n",
      "1 x 1 x 2 = 2\n",
      "1 x 1 x 3 = 3\n",
      "1 x 2 x 0 = 0\n",
      "1 x 2 x 1 = 2\n",
      "1 x 2 x 2 = 4\n",
      "1 x 2 x 3 = 6\n",
      "1 x 3 x 0 = 0\n",
      "1 x 3 x 1 = 3\n",
      "1 x 3 x 2 = 6\n",
      "1 x 3 x 3 = 9\n",
      "1 x 4 x 0 = 0\n",
      "1 x 4 x 1 = 4\n",
      "1 x 4 x 2 = 8\n",
      "1 x 4 x 3 = 12\n",
      "2 x 0 x 0 = 0\n",
      "2 x 0 x 1 = 0\n",
      "2 x 0 x 2 = 0\n",
      "2 x 0 x 3 = 0\n",
      "2 x 1 x 0 = 0\n",
      "2 x 1 x 1 = 2\n",
      "2 x 1 x 2 = 4\n",
      "2 x 1 x 3 = 6\n",
      "2 x 2 x 0 = 0\n",
      "2 x 2 x 1 = 4\n",
      "2 x 2 x 2 = 8\n",
      "2 x 2 x 3 = 12\n",
      "2 x 3 x 0 = 0\n",
      "2 x 3 x 1 = 6\n",
      "2 x 3 x 2 = 12\n",
      "2 x 3 x 3 = 18\n",
      "2 x 4 x 0 = 0\n",
      "2 x 4 x 1 = 8\n",
      "2 x 4 x 2 = 16\n",
      "2 x 4 x 3 = 24\n",
      "3 x 0 x 0 = 0\n",
      "3 x 0 x 1 = 0\n",
      "3 x 0 x 2 = 0\n",
      "3 x 0 x 3 = 0\n",
      "3 x 1 x 0 = 0\n",
      "3 x 1 x 1 = 3\n",
      "3 x 1 x 2 = 6\n",
      "3 x 1 x 3 = 9\n",
      "3 x 2 x 0 = 0\n",
      "3 x 2 x 1 = 6\n",
      "3 x 2 x 2 = 12\n",
      "3 x 2 x 3 = 18\n",
      "3 x 3 x 0 = 0\n",
      "3 x 3 x 1 = 9\n",
      "3 x 3 x 2 = 18\n",
      "3 x 3 x 3 = 27\n",
      "3 x 4 x 0 = 0\n",
      "3 x 4 x 1 = 12\n",
      "3 x 4 x 2 = 24\n",
      "3 x 4 x 3 = 36\n",
      "4 x 0 x 0 = 0\n",
      "4 x 0 x 1 = 0\n",
      "4 x 0 x 2 = 0\n",
      "4 x 0 x 3 = 0\n",
      "4 x 1 x 0 = 0\n",
      "4 x 1 x 1 = 4\n",
      "4 x 1 x 2 = 8\n",
      "4 x 1 x 3 = 12\n",
      "4 x 2 x 0 = 0\n",
      "4 x 2 x 1 = 8\n",
      "4 x 2 x 2 = 16\n",
      "4 x 2 x 3 = 24\n",
      "4 x 3 x 0 = 0\n",
      "4 x 3 x 1 = 12\n",
      "4 x 3 x 2 = 24\n",
      "4 x 3 x 3 = 36\n",
      "4 x 4 x 0 = 0\n",
      "4 x 4 x 1 = 16\n",
      "4 x 4 x 2 = 32\n",
      "4 x 4 x 3 = 48\n",
      "5 x 0 x 0 = 0\n",
      "5 x 0 x 1 = 0\n",
      "5 x 0 x 2 = 0\n",
      "5 x 0 x 3 = 0\n",
      "5 x 1 x 0 = 0\n",
      "5 x 1 x 1 = 5\n",
      "5 x 1 x 2 = 10\n",
      "5 x 1 x 3 = 15\n",
      "5 x 2 x 0 = 0\n",
      "5 x 2 x 1 = 10\n",
      "5 x 2 x 2 = 20\n",
      "5 x 2 x 3 = 30\n",
      "5 x 3 x 0 = 0\n",
      "5 x 3 x 1 = 15\n",
      "5 x 3 x 2 = 30\n",
      "5 x 3 x 3 = 45\n",
      "5 x 4 x 0 = 0\n",
      "5 x 4 x 1 = 20\n",
      "5 x 4 x 2 = 40\n",
      "5 x 4 x 3 = 60\n",
      "6 x 0 x 0 = 0\n",
      "6 x 0 x 1 = 0\n",
      "6 x 0 x 2 = 0\n",
      "6 x 0 x 3 = 0\n",
      "6 x 1 x 0 = 0\n",
      "6 x 1 x 1 = 6\n",
      "6 x 1 x 2 = 12\n",
      "6 x 1 x 3 = 18\n",
      "6 x 2 x 0 = 0\n",
      "6 x 2 x 1 = 12\n",
      "6 x 2 x 2 = 24\n",
      "6 x 2 x 3 = 36\n",
      "6 x 3 x 0 = 0\n",
      "6 x 3 x 1 = 18\n",
      "6 x 3 x 2 = 36\n",
      "6 x 3 x 3 = 54\n",
      "6 x 4 x 0 = 0\n",
      "6 x 4 x 1 = 24\n",
      "6 x 4 x 2 = 48\n",
      "6 x 4 x 3 = 72\n"
     ]
    }
   ],
   "source": [
    "for i in range(7):\n",
    "    for j in range(5):\n",
    "        for k in range (4):\n",
    "            print(i,\"x\",j,\"x\",k,\"=\",i*j*k)"
   ]
  },
  {
   "cell_type": "code",
   "execution_count": 26,
   "metadata": {},
   "outputs": [
    {
     "name": "stdout",
     "output_type": "stream",
     "text": [
      "63\n"
     ]
    }
   ],
   "source": [
    "listNumber=[1,2,3,4,5,63,4,3,23,43,34,0,-78]\n",
    "\n",
    "maxNumber=listNumber[0]\n",
    "\n",
    "for i in listNumber:\n",
    "    \n",
    "    if maxNumber<i:\n",
    "        maxNumber=i\n",
    "\n",
    "print(maxNumber)\n"
   ]
  },
  {
   "cell_type": "code",
   "execution_count": null,
   "metadata": {},
   "outputs": [],
   "source": [
    "for i in range(10):\n",
    "    print(\"Hello World\")\n",
    "    print(\"\\n\")"
   ]
  },
  {
   "cell_type": "code",
   "execution_count": 49,
   "metadata": {},
   "outputs": [
    {
     "name": "stdout",
     "output_type": "stream",
     "text": [
      "11\n",
      "12\n",
      "13\n",
      "14\n",
      "16\n",
      "17\n",
      "18\n",
      "19\n",
      "20\n"
     ]
    }
   ],
   "source": [
    "i = 10\n",
    "while i<20:\n",
    "    \n",
    "    if i == 15:\n",
    "        continue\n",
    "    i=i+1\n",
    "    print(i)\n",
    "    \n"
   ]
  },
  {
   "cell_type": "code",
   "execution_count": 50,
   "metadata": {},
   "outputs": [],
   "source": [
    "def perkalian(x,y,z):\n",
    "    for i in range(x):\n",
    "        for j in range(y):\n",
    "            for k in range (z):\n",
    "                print(i,\"x\",j,\"x\",k,\"=\",i*j*k)"
   ]
  },
  {
   "cell_type": "code",
   "execution_count": 52,
   "metadata": {},
   "outputs": [
    {
     "name": "stdout",
     "output_type": "stream",
     "text": [
      "0 x 0 x 0 = 0\n",
      "0 x 0 x 1 = 0\n",
      "0 x 0 x 2 = 0\n",
      "0 x 0 x 3 = 0\n",
      "0 x 1 x 0 = 0\n",
      "0 x 1 x 1 = 0\n",
      "0 x 1 x 2 = 0\n",
      "0 x 1 x 3 = 0\n",
      "0 x 2 x 0 = 0\n",
      "0 x 2 x 1 = 0\n",
      "0 x 2 x 2 = 0\n",
      "0 x 2 x 3 = 0\n",
      "1 x 0 x 0 = 0\n",
      "1 x 0 x 1 = 0\n",
      "1 x 0 x 2 = 0\n",
      "1 x 0 x 3 = 0\n",
      "1 x 1 x 0 = 0\n",
      "1 x 1 x 1 = 1\n",
      "1 x 1 x 2 = 2\n",
      "1 x 1 x 3 = 3\n",
      "1 x 2 x 0 = 0\n",
      "1 x 2 x 1 = 2\n",
      "1 x 2 x 2 = 4\n",
      "1 x 2 x 3 = 6\n",
      "=======================================\n",
      "0 x 0 x 0 = 0\n",
      "0 x 0 x 1 = 0\n",
      "0 x 0 x 2 = 0\n",
      "0 x 0 x 3 = 0\n",
      "0 x 0 x 4 = 0\n",
      "0 x 0 x 5 = 0\n",
      "0 x 0 x 6 = 0\n",
      "0 x 1 x 0 = 0\n",
      "0 x 1 x 1 = 0\n",
      "0 x 1 x 2 = 0\n",
      "0 x 1 x 3 = 0\n",
      "0 x 1 x 4 = 0\n",
      "0 x 1 x 5 = 0\n",
      "0 x 1 x 6 = 0\n",
      "0 x 2 x 0 = 0\n",
      "0 x 2 x 1 = 0\n",
      "0 x 2 x 2 = 0\n",
      "0 x 2 x 3 = 0\n",
      "0 x 2 x 4 = 0\n",
      "0 x 2 x 5 = 0\n",
      "0 x 2 x 6 = 0\n",
      "0 x 3 x 0 = 0\n",
      "0 x 3 x 1 = 0\n",
      "0 x 3 x 2 = 0\n",
      "0 x 3 x 3 = 0\n",
      "0 x 3 x 4 = 0\n",
      "0 x 3 x 5 = 0\n",
      "0 x 3 x 6 = 0\n",
      "0 x 4 x 0 = 0\n",
      "0 x 4 x 1 = 0\n",
      "0 x 4 x 2 = 0\n",
      "0 x 4 x 3 = 0\n",
      "0 x 4 x 4 = 0\n",
      "0 x 4 x 5 = 0\n",
      "0 x 4 x 6 = 0\n",
      "1 x 0 x 0 = 0\n",
      "1 x 0 x 1 = 0\n",
      "1 x 0 x 2 = 0\n",
      "1 x 0 x 3 = 0\n",
      "1 x 0 x 4 = 0\n",
      "1 x 0 x 5 = 0\n",
      "1 x 0 x 6 = 0\n",
      "1 x 1 x 0 = 0\n",
      "1 x 1 x 1 = 1\n",
      "1 x 1 x 2 = 2\n",
      "1 x 1 x 3 = 3\n",
      "1 x 1 x 4 = 4\n",
      "1 x 1 x 5 = 5\n",
      "1 x 1 x 6 = 6\n",
      "1 x 2 x 0 = 0\n",
      "1 x 2 x 1 = 2\n",
      "1 x 2 x 2 = 4\n",
      "1 x 2 x 3 = 6\n",
      "1 x 2 x 4 = 8\n",
      "1 x 2 x 5 = 10\n",
      "1 x 2 x 6 = 12\n",
      "1 x 3 x 0 = 0\n",
      "1 x 3 x 1 = 3\n",
      "1 x 3 x 2 = 6\n",
      "1 x 3 x 3 = 9\n",
      "1 x 3 x 4 = 12\n",
      "1 x 3 x 5 = 15\n",
      "1 x 3 x 6 = 18\n",
      "1 x 4 x 0 = 0\n",
      "1 x 4 x 1 = 4\n",
      "1 x 4 x 2 = 8\n",
      "1 x 4 x 3 = 12\n",
      "1 x 4 x 4 = 16\n",
      "1 x 4 x 5 = 20\n",
      "1 x 4 x 6 = 24\n",
      "2 x 0 x 0 = 0\n",
      "2 x 0 x 1 = 0\n",
      "2 x 0 x 2 = 0\n",
      "2 x 0 x 3 = 0\n",
      "2 x 0 x 4 = 0\n",
      "2 x 0 x 5 = 0\n",
      "2 x 0 x 6 = 0\n",
      "2 x 1 x 0 = 0\n",
      "2 x 1 x 1 = 2\n",
      "2 x 1 x 2 = 4\n",
      "2 x 1 x 3 = 6\n",
      "2 x 1 x 4 = 8\n",
      "2 x 1 x 5 = 10\n",
      "2 x 1 x 6 = 12\n",
      "2 x 2 x 0 = 0\n",
      "2 x 2 x 1 = 4\n",
      "2 x 2 x 2 = 8\n",
      "2 x 2 x 3 = 12\n",
      "2 x 2 x 4 = 16\n",
      "2 x 2 x 5 = 20\n",
      "2 x 2 x 6 = 24\n",
      "2 x 3 x 0 = 0\n",
      "2 x 3 x 1 = 6\n",
      "2 x 3 x 2 = 12\n",
      "2 x 3 x 3 = 18\n",
      "2 x 3 x 4 = 24\n",
      "2 x 3 x 5 = 30\n",
      "2 x 3 x 6 = 36\n",
      "2 x 4 x 0 = 0\n",
      "2 x 4 x 1 = 8\n",
      "2 x 4 x 2 = 16\n",
      "2 x 4 x 3 = 24\n",
      "2 x 4 x 4 = 32\n",
      "2 x 4 x 5 = 40\n",
      "2 x 4 x 6 = 48\n",
      "=======================================\n",
      "0 x 0 x 0 = 0\n",
      "0 x 0 x 1 = 0\n",
      "0 x 0 x 2 = 0\n",
      "0 x 0 x 3 = 0\n",
      "0 x 0 x 4 = 0\n",
      "0 x 0 x 5 = 0\n",
      "0 x 1 x 0 = 0\n",
      "0 x 1 x 1 = 0\n",
      "0 x 1 x 2 = 0\n",
      "0 x 1 x 3 = 0\n",
      "0 x 1 x 4 = 0\n",
      "0 x 1 x 5 = 0\n",
      "0 x 2 x 0 = 0\n",
      "0 x 2 x 1 = 0\n",
      "0 x 2 x 2 = 0\n",
      "0 x 2 x 3 = 0\n",
      "0 x 2 x 4 = 0\n",
      "0 x 2 x 5 = 0\n",
      "0 x 3 x 0 = 0\n",
      "0 x 3 x 1 = 0\n",
      "0 x 3 x 2 = 0\n",
      "0 x 3 x 3 = 0\n",
      "0 x 3 x 4 = 0\n",
      "0 x 3 x 5 = 0\n",
      "1 x 0 x 0 = 0\n",
      "1 x 0 x 1 = 0\n",
      "1 x 0 x 2 = 0\n",
      "1 x 0 x 3 = 0\n",
      "1 x 0 x 4 = 0\n",
      "1 x 0 x 5 = 0\n",
      "1 x 1 x 0 = 0\n",
      "1 x 1 x 1 = 1\n",
      "1 x 1 x 2 = 2\n",
      "1 x 1 x 3 = 3\n",
      "1 x 1 x 4 = 4\n",
      "1 x 1 x 5 = 5\n",
      "1 x 2 x 0 = 0\n",
      "1 x 2 x 1 = 2\n",
      "1 x 2 x 2 = 4\n",
      "1 x 2 x 3 = 6\n",
      "1 x 2 x 4 = 8\n",
      "1 x 2 x 5 = 10\n",
      "1 x 3 x 0 = 0\n",
      "1 x 3 x 1 = 3\n",
      "1 x 3 x 2 = 6\n",
      "1 x 3 x 3 = 9\n",
      "1 x 3 x 4 = 12\n",
      "1 x 3 x 5 = 15\n"
     ]
    }
   ],
   "source": [
    "perkalian(2,3,4)\n",
    "print(\"=======================================\")\n",
    "perkalian(3,5,7)\n",
    "print(\"=======================================\")\n",
    "perkalian(2,4,6)"
   ]
  },
  {
   "cell_type": "code",
   "execution_count": 67,
   "metadata": {},
   "outputs": [],
   "source": [
    "def celciusToFahrenheit2(temp):\n",
    "    convertedTemp=9/5*temp + 32\n",
    "    print(convertedTemp)"
   ]
  },
  {
   "cell_type": "code",
   "execution_count": 65,
   "metadata": {},
   "outputs": [],
   "source": [
    "def celciusToFahrenheit(temp):\n",
    "    convertedTemp=9/5*temp + 32\n",
    "    return convertedTemp"
   ]
  },
  {
   "cell_type": "code",
   "execution_count": 66,
   "metadata": {},
   "outputs": [
    {
     "name": "stdout",
     "output_type": "stream",
     "text": [
      "122.0\n",
      "140.0\n"
     ]
    }
   ],
   "source": [
    "suhu1 = celciusToFahrenheit(50)\n",
    "suhu2 = celciusToFahrenheit(60)\n",
    "print(suhu1)\n",
    "print(suhu2)"
   ]
  },
  {
   "cell_type": "code",
   "execution_count": 68,
   "metadata": {},
   "outputs": [
    {
     "name": "stdout",
     "output_type": "stream",
     "text": [
      "122.0\n",
      "140.0\n",
      "None\n",
      "None\n"
     ]
    }
   ],
   "source": [
    "suhu3 = celciusToFahrenheit2(50)\n",
    "suhu4 = celciusToFahrenheit2(60)\n",
    "print(suhu3)\n",
    "print(suhu4)"
   ]
  },
  {
   "cell_type": "code",
   "execution_count": 64,
   "metadata": {},
   "outputs": [
    {
     "name": "stdout",
     "output_type": "stream",
     "text": [
      "   89.6\n",
      "147.2\n",
      "136.4\n"
     ]
    }
   ],
   "source": [
    "for i in range (3):\n",
    "    print(end=\" \")\n",
    "celciusToFahrenheit(32)\n",
    "\n",
    "celciusToFahrenheit(64)\n",
    "celciusToFahrenheit(58)"
   ]
  }
 ],
 "metadata": {
  "kernelspec": {
   "display_name": "spyder-cf",
   "language": "python",
   "name": "python3"
  },
  "language_info": {
   "codemirror_mode": {
    "name": "ipython",
    "version": 3
   },
   "file_extension": ".py",
   "mimetype": "text/x-python",
   "name": "python",
   "nbconvert_exporter": "python",
   "pygments_lexer": "ipython3",
   "version": "3.10.9"
  }
 },
 "nbformat": 4,
 "nbformat_minor": 2
}
