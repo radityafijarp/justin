{
 "cells": [
  {
   "cell_type": "code",
   "execution_count": 2,
   "metadata": {},
   "outputs": [],
   "source": [
    "orders = [\n",
    "    {\"order_id\": 1, \"customer_id\": 101, \"items\": [{\"item\": \"Apple\", \"price\": 1}, {\"item\": \"Banana\", \"price\": 2}]},\n",
    "    {\"order_id\": 2, \"customer_id\": 102, \"items\": [{\"item\": \"Orange\", \"price\": 3}, {\"item\": \"Apple\", \"price\": 1}]},\n",
    "    {\"order_id\": 3, \"customer_id\": 101, \"items\": [{\"item\": \"Apple\", \"price\": 1}, {\"item\": \"Grapes\", \"price\": 4}]},\n",
    "]\n"
   ]
  },
  {
   "cell_type": "code",
   "execution_count": 23,
   "metadata": {},
   "outputs": [
    {
     "name": "stdout",
     "output_type": "stream",
     "text": [
      "[{'item': 'Apple', 'price': 1}, {'item': 'Banana', 'price': 2}, {'item': 'Apple', 'price': 1}, {'item': 'Grapes', 'price': 4}]\n"
     ]
    }
   ],
   "source": [
    "x=[{\"item\": \"Apple\", \"price\": 1}, {\"item\": \"Banana\", \"price\": 2}]\n",
    "y=[{\"item\": \"Apple\", \"price\": 1}, {\"item\": \"Grapes\", \"price\": 4}]\n",
    "z=x+y\n",
    "print(z)"
   ]
  },
  {
   "cell_type": "code",
   "execution_count": 11,
   "metadata": {},
   "outputs": [
    {
     "data": {
      "text/plain": [
       "'Banana'"
      ]
     },
     "execution_count": 11,
     "metadata": {},
     "output_type": "execute_result"
    }
   ],
   "source": [
    "orders[0][\"items\"][1]['item']"
   ]
  },
  {
   "cell_type": "code",
   "execution_count": 27,
   "metadata": {},
   "outputs": [
    {
     "name": "stdout",
     "output_type": "stream",
     "text": [
      "{101: [{'item': 'Apple', 'price': 1}, {'item': 'Banana', 'price': 2}, {'item': 'Apple', 'price': 1}, {'item': 'Grapes', 'price': 4}, {'item': 'Apple', 'price': 1}, {'item': 'Grapes', 'price': 4}, {'item': 'Apple', 'price': 1}, {'item': 'Grapes', 'price': 4}, {'item': 'Apple', 'price': 1}, {'item': 'Grapes', 'price': 4}], 102: [{'item': 'Orange', 'price': 3}, {'item': 'Apple', 'price': 1}]}\n",
      "{'customers': {101: {'unique_items': 2}, 102: {'unique_items': 2}}, 'orders': {}}\n"
     ]
    }
   ],
   "source": [
    "def orderSummary(orders):\n",
    "    result={\n",
    "        \"customers\":{},\n",
    "        \"orders\":{}\n",
    "    }\n",
    "    customer_item={}\n",
    "    unique_item={\n",
    "        \"unique_items\":0\n",
    "    }\n",
    "\n",
    "    items={}\n",
    "\n",
    "    for order in orders: # untuk setiap dictionary order di dalam list orders\n",
    "        customer_id=order[\"customer_id\"] # ini buat ambil data customer id dari dictionary order\n",
    "        if customer_id not in items:\n",
    "            items[customer_id] = order[\"items\"] # untuk buat key baru dengan nilai order item\n",
    "        else:\n",
    "            items[customer_id] = items[customer_id] + order[\"items\"] # untuk menambah data kalau sudah ada\n",
    "    print(items)\n",
    "    for customer_id in items:\n",
    "        list_of_item=items[customer_id]\n",
    "        unique_item_list=[]\n",
    "        for x in list_of_item:\n",
    "            if x[\"item\"] not in unique_item_list:\n",
    "                unique_item_list.append(x[\"item\"])\n",
    "\n",
    "        unique_item[\"unique_items\"]=len(unique_item_list)\n",
    "        customer_item[customer_id]=unique_item\n",
    "\n",
    "    result[\"customers\"]=customer_item\n",
    "\n",
    "    return result\n",
    "\n",
    "print(orderSummary(orders))"
   ]
  },
  {
   "cell_type": "code",
   "execution_count": null,
   "metadata": {},
   "outputs": [],
   "source": [
    "# Output\n",
    "{\n",
    "    \"customers\": {\n",
    "        101: {\"unique_items\": 3},\n",
    "        102: {\"unique_items\": 2}\n",
    "    },\n",
    "    \"orders\": {\n",
    "        1: {\"total_price\": 3},   # Apple + Banana\n",
    "        2: {\"total_price\": 4},   # Orange + Apple\n",
    "        3: {\"total_price\": 5}    # Apple + Grapes\n",
    "    }\n",
    "}\n"
   ]
  },
  {
   "cell_type": "code",
   "execution_count": 12,
   "metadata": {},
   "outputs": [
    {
     "name": "stdout",
     "output_type": "stream",
     "text": [
      "[3, 4, 5, 3, 4, 3, 3]\n"
     ]
    }
   ],
   "source": [
    "list1=[3,4,5]\n",
    "list2=[3,4,3,3]\n",
    "print(list1+list2)"
   ]
  },
  {
   "cell_type": "code",
   "execution_count": 15,
   "metadata": {},
   "outputs": [],
   "source": [
    "list_of_item=[{\"item\": \"Apple\", \"price\": 1}, {\"item\": \"Banana\", \"price\": 2}]"
   ]
  },
  {
   "cell_type": "code",
   "execution_count": 16,
   "metadata": {},
   "outputs": [
    {
     "name": "stdout",
     "output_type": "stream",
     "text": [
      "['Apple', 'Banana']\n",
      "2\n"
     ]
    }
   ],
   "source": [
    "unique_item_list=[]\n",
    "for x in list_of_item:\n",
    "    if x[\"item\"] not in unique_item_list:\n",
    "        unique_item_list.append(x[\"item\"])\n",
    "\n",
    "\n",
    "print(unique_item_list)\n",
    "unique_item_count=len(unique_item_list)\n",
    "print(unique_item_count)\n"
   ]
  },
  {
   "cell_type": "code",
   "execution_count": 17,
   "metadata": {},
   "outputs": [
    {
     "name": "stdout",
     "output_type": "stream",
     "text": [
      "{'name': 'Andy', 'age': 23}\n"
     ]
    }
   ],
   "source": [
    "dictEx={\n",
    "    \"name\":\"Andy\"\n",
    "}\n",
    "\n",
    "dictEx[\"age\"]=23\n",
    "print(dictEx)"
   ]
  },
  {
   "cell_type": "code",
   "execution_count": 22,
   "metadata": {},
   "outputs": [
    {
     "name": "stdout",
     "output_type": "stream",
     "text": [
      "{'name': 'Agus', 'age': 23, 'address': 'Bandung'}\n"
     ]
    }
   ],
   "source": [
    "dictEx[\"name\"]=\"Agus\"\n",
    "dictEx[\"address\"]=\"Bandung\"\n",
    "print(dictEx)"
   ]
  }
 ],
 "metadata": {
  "kernelspec": {
   "display_name": "spyder-cf",
   "language": "python",
   "name": "python3"
  },
  "language_info": {
   "codemirror_mode": {
    "name": "ipython",
    "version": 3
   },
   "file_extension": ".py",
   "mimetype": "text/x-python",
   "name": "python",
   "nbconvert_exporter": "python",
   "pygments_lexer": "ipython3",
   "version": "3.10.9"
  }
 },
 "nbformat": 4,
 "nbformat_minor": 2
}
