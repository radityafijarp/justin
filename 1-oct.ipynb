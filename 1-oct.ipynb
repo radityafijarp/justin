{
 "cells": [
  {
   "cell_type": "code",
   "execution_count": 19,
   "metadata": {},
   "outputs": [],
   "source": [
    "text=\"Di tengah tengah tengah tengah tengah tengah spekulasi masa depan Erik ten Hag, sebuah supercomputer memprediksikan posisi akhir Manchester United andaikata tetap mempertahankan juru taktik Belanda itu. Pada akhir pekan, Man United menelan kekalahan 0-3 ketika menjamu Tottenham Hotspur. Di laga itu Setan Merah juga harus main dengan 10 orang sejak Bruno Fernandes dikartu merah di menit ke-42. Secara beruntun, MU kini sudah tanpa kemenangan dalam tiga laga terakhir di seluruh kompetisi -- termasuk dua di antaranya di Premier League.\""
   ]
  },
  {
   "cell_type": "code",
   "execution_count": 20,
   "metadata": {},
   "outputs": [
    {
     "name": "stdout",
     "output_type": "stream",
     "text": [
      "{'di': 6, 'tengah': 6}\n"
     ]
    }
   ],
   "source": [
    "#Most frequent word\n",
    "def lyrycs(text):\n",
    "    remove_chars = \".,!?\"\n",
    "    \n",
    "    text=text.lower()\n",
    "    text = text.replace('.', '').replace(',', '').replace('!', '').replace('?', '')\n",
    "    textList=text.split()\n",
    "\n",
    "    wordDict={}\n",
    "    #Tambah key/buat key baru untuk setiap word dengan nilai initial 0\n",
    "    for word in textList:\n",
    "        wordDict[word]=0\n",
    "\n",
    "    for word in textList:\n",
    "        wordDict[word]=wordDict[word]+1 #buat count kalo misal ketemu katanya\n",
    "\n",
    "    maxCount=0\n",
    "    for word in wordDict:\n",
    "        if wordDict[word]>maxCount:\n",
    "            maxCount=wordDict[word]\n",
    "    \n",
    "    listMostFrequentWord={}\n",
    "    for word in wordDict:\n",
    "        if wordDict[word]==maxCount:\n",
    "            listMostFrequentWord[word]=wordDict[word] \n",
    "\n",
    "\n",
    "    print(listMostFrequentWord)\n",
    "lyrycs(text)"
   ]
  },
  {
   "cell_type": "code",
   "execution_count": 21,
   "metadata": {},
   "outputs": [
    {
     "name": "stdout",
     "output_type": "stream",
     "text": [
      "{'di': 6, 'tengah': 6, 'akhir': 2, 'united': 2, 'itu': 2, 'laga': 2, 'merah': 2}\n"
     ]
    }
   ],
   "source": [
    "# more than x time occurance\n",
    "def lyrycs(text):\n",
    "    remove_chars = \".,!?\"\n",
    "    \n",
    "    text=text.lower()\n",
    "    text = text.replace('.', '').replace(',', '').replace('!', '').replace('?', '')\n",
    "    textList=text.split()\n",
    "\n",
    "    wordDict={}\n",
    "    #Tambah key/buat key baru untuk setiap word dengan nilai initial 0\n",
    "    for word in textList:\n",
    "        wordDict[word]=0\n",
    "\n",
    "    for word in textList:\n",
    "        wordDict[word]=wordDict[word]+1 #buat count kalo misal ketemu katanya\n",
    "\n",
    "    \n",
    "    filteredWord={}\n",
    "    for word in wordDict:\n",
    "        if wordDict[word]>=2:\n",
    "            filteredWord[word]=wordDict[word] \n",
    "\n",
    "\n",
    "    print(filteredWord)\n",
    "lyrycs(text)"
   ]
  },
  {
   "cell_type": "code",
   "execution_count": 15,
   "metadata": {},
   "outputs": [],
   "source": [
    "dictionary={\n",
    "    \"number1\":1,\n",
    "    \"number2\":2\n",
    "}"
   ]
  },
  {
   "cell_type": "code",
   "execution_count": 22,
   "metadata": {},
   "outputs": [
    {
     "name": "stdout",
     "output_type": "stream",
     "text": [
      "dict_values([13, 2, 5])\n",
      "dict_keys(['number1', 'number2', 'number3'])\n"
     ]
    }
   ],
   "source": [
    "print(dictionary.values())\n",
    "print(dictionary.keys())"
   ]
  },
  {
   "cell_type": "code",
   "execution_count": 16,
   "metadata": {},
   "outputs": [
    {
     "name": "stdout",
     "output_type": "stream",
     "text": [
      "{'number1': 13, 'number2': 2}\n"
     ]
    }
   ],
   "source": [
    "dictionary[\"number1\"]=dictionary[\"number1\"]+12\n",
    "print(dictionary)"
   ]
  },
  {
   "cell_type": "code",
   "execution_count": 17,
   "metadata": {},
   "outputs": [
    {
     "name": "stdout",
     "output_type": "stream",
     "text": [
      "{'number1': 13, 'number2': 2, 'number3': 5}\n"
     ]
    }
   ],
   "source": [
    "dictionary[\"number3\"]=5\n",
    "print(dictionary)"
   ]
  },
  {
   "cell_type": "code",
   "execution_count": 24,
   "metadata": {},
   "outputs": [],
   "source": [
    "thistuple = (\"apple\", \"banana\", \"cherry\")\n",
    "thisdict={}\n",
    "for x in thistuple:\n",
    "  thisdict[x]=0"
   ]
  },
  {
   "cell_type": "code",
   "execution_count": 25,
   "metadata": {},
   "outputs": [
    {
     "data": {
      "text/plain": [
       "{'apple': 0, 'banana': 0, 'cherry': 0}"
      ]
     },
     "execution_count": 25,
     "metadata": {},
     "output_type": "execute_result"
    }
   ],
   "source": [
    "thisdict"
   ]
  },
  {
   "cell_type": "code",
   "execution_count": 26,
   "metadata": {},
   "outputs": [],
   "source": [
    "transactions = [\n",
    "    {\"user_id\": 1, \"amount\": 100, \"type\": \"credit\"},\n",
    "    {\"user_id\": 1, \"amount\": 50, \"type\": \"debit\"},\n",
    "    {\"user_id\": 2, \"amount\": 200, \"type\": \"credit\"},\n",
    "    {\"user_id\": 2, \"amount\": 100, \"type\": \"debit\"},\n",
    "    {\"user_id\": 1, \"amount\": 150, \"type\": \"credit\"},\n",
    "]\n"
   ]
  },
  {
   "cell_type": "code",
   "execution_count": 46,
   "metadata": {},
   "outputs": [
    {
     "name": "stdout",
     "output_type": "stream",
     "text": [
      "{1: 200, 2: 100}\n"
     ]
    }
   ],
   "source": [
    "transactions = [\n",
    "    {\"user_id\": 1, \"amount\": 100, \"type\": \"credit\"},\n",
    "    {\"user_id\": 1, \"amount\": 50, \"type\": \"debit\"},\n",
    "    {\"user_id\": 2, \"amount\": 200, \"type\": \"credit\"},\n",
    "    {\"user_id\": 2, \"amount\": 100, \"type\": \"debit\"},\n",
    "    {\"user_id\": 1, \"amount\": 150, \"type\": \"credit\"},\n",
    "]\n",
    "\n",
    "def getBalance(transactions):\n",
    "    totalTransactionPerUser = {}\n",
    "\n",
    "    # Initialize balance for each user\n",
    "    for transaction in transactions:\n",
    "        user_id = transaction[\"user_id\"]\n",
    "        if user_id not in totalTransactionPerUser:\n",
    "            totalTransactionPerUser[user_id] = 0\n",
    "\n",
    "    # Calculate the balance for each user\n",
    "    for transaction in transactions:\n",
    "        user_id = transaction[\"user_id\"]\n",
    "        if transaction[\"type\"] == \"credit\":\n",
    "            totalTransactionPerUser[user_id] += transaction[\"amount\"]\n",
    "        elif transaction[\"type\"] == \"debit\":\n",
    "            totalTransactionPerUser[user_id] -= transaction[\"amount\"]\n",
    "\n",
    "    return totalTransactionPerUser\n",
    "\n",
    "print(getBalance(transactions))\n"
   ]
  },
  {
   "cell_type": "code",
   "execution_count": null,
   "metadata": {},
   "outputs": [],
   "source": []
  }
 ],
 "metadata": {
  "kernelspec": {
   "display_name": "spyder-cf",
   "language": "python",
   "name": "python3"
  },
  "language_info": {
   "codemirror_mode": {
    "name": "ipython",
    "version": 3
   },
   "file_extension": ".py",
   "mimetype": "text/x-python",
   "name": "python",
   "nbconvert_exporter": "python",
   "pygments_lexer": "ipython3",
   "version": "3.10.9"
  }
 },
 "nbformat": 4,
 "nbformat_minor": 2
}
